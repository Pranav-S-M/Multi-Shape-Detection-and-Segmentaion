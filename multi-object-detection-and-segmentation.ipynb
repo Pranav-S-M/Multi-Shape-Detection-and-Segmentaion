{
 "cells": [
  {
   "cell_type": "code",
   "execution_count": 2,
   "metadata": {
    "_cell_guid": "79c7e3d0-c299-4dcb-8224-4455121ee9b0",
    "_uuid": "d629ff2d2480ee46fbb7e2d37f6b5fab8052498a"
   },
   "outputs": [],
   "source": [
    "import numpy as np\n",
    "import matplotlib.pyplot as plt\n",
    "import os\n",
    "import cv2\n",
    "import random\n",
    "from tqdm import notebook\n",
    "import sys\n",
    "\n",
    "from tensorflow import keras\n",
    "from keras.models import Sequential, Model\n",
    "from keras.layers import *\n",
    "from keras.callbacks import ModelCheckpoint\n",
    "import keras.backend as K\n",
    "import tensorflow as tf\n",
    "from keras.utils.vis_utils import plot_model"
   ]
  },
  {
   "cell_type": "code",
   "execution_count": null,
   "metadata": {},
   "outputs": [],
   "source": [
    "def rect_coords(X1, Y1, width, height, angle):\n",
    "        if width >0 and height >0:\n",
    "            \n",
    "            theta = angle*(np.pi/180.)\n",
    "            alpha = np.arctan(height/width)\n",
    "            hypot = np.sqrt(width**2 + height**2)\n",
    "\n",
    "            x1, y1 = X1, Y1\n",
    "            x2, y2 = x1+width*np.cos(theta), y1+width*np.sin(theta)\n",
    "            x3, y3 = x1+hypot*np.cos(theta+alpha), y1+hypot*np.sin(theta+alpha)\n",
    "            x4, y4 = x1-height*np.sin(theta), y1+height*np.cos(theta)\n",
    "            rect_coords = [[x1, y1], [x2, y2], [x3, y3], [x4, y4], [x1, y1]]\n",
    "\n",
    "        else:\n",
    "            rect_coords = np.zeros((5,2))\n",
    "            \n",
    "        rect_coords = np.array(rect_coords)\n",
    "\n",
    "        return rect_coords"
   ]
  },
  {
   "cell_type": "code",
   "execution_count": 3,
   "metadata": {},
   "outputs": [],
   "source": [
    "def iou_calc(bbox1, bbox2):\n",
    "    Ax1, Ay1, Ax2, Ay2 = max(0, bbox1[0][0]), max(0, bbox1[0][1]), max(0, bbox1[1][0]), max(0, bbox1[1][1])\n",
    "    Bx1, By1, Bx2, By2 = max(0, bbox2[0][0]), max(0, bbox2[0][1]), max(0, bbox2[1][0]), max(0, bbox2[1][1])\n",
    "\n",
    "    #inter rect\n",
    "    Ix1 = max(Ax1, Bx1)\n",
    "    Iy1 = max(Ay1, By1)\n",
    "    Ix2 = min(Ax2, Bx2)\n",
    "    Iy2 = min(Ay2, By2)\n",
    "\n",
    "    inter_area = max(0, (Ix2-Ix1)*(Iy2-Iy1))\n",
    "\n",
    "    area_rect1 = max(0, (Ax2-Ax1)*(Ay2-Ay1))\n",
    "    area_rect2 = max(0, (Bx2-Bx1)*(By2-By1))\n",
    "\n",
    "    union_area = max(0, area_rect1 + area_rect2 - inter_area)\n",
    "    \n",
    "    if union_area == 0:\n",
    "        IOU = 0\n",
    "    else:\n",
    "        IOU = inter_area/union_area\n",
    "\n",
    "    return IOU"
   ]
  },
  {
   "cell_type": "code",
   "execution_count": 4,
   "metadata": {},
   "outputs": [],
   "source": [
    "img_ht, img_wd = 76,76\n",
    "\n",
    "shapes = ['Rectangle', 'Circle', 'Triangle', 'Pentagon', 'Hexagon']\n",
    "\n",
    "max_shapes = 3\n",
    "\n",
    "num_classes = len(shapes) + 1\n",
    "\n",
    "GRID = 5\n",
    "\n",
    "BATCH_SIZE = 32"
   ]
  },
  {
   "cell_type": "code",
   "execution_count": 5,
   "metadata": {},
   "outputs": [],
   "source": [
    "src_dir = '../input/your/source/directory'"
   ]
  },
  {
   "cell_type": "code",
   "execution_count": 6,
   "metadata": {},
   "outputs": [],
   "source": [
    "img_files = os.listdir(os.path.join(src_dir, 'Images'))\n",
    "mask_files = os.listdir(os.path.join(src_dir, 'Masks'))"
   ]
  },
  {
   "cell_type": "code",
   "execution_count": 7,
   "metadata": {},
   "outputs": [
    {
     "data": {
      "application/vnd.jupyter.widget-view+json": {
       "model_id": "1892fe4798054563b6f73f5ef87c17f3",
       "version_major": 2,
       "version_minor": 0
      },
      "text/plain": [
       "HBox(children=(FloatProgress(value=0.0, max=5000.0), HTML(value='')))"
      ]
     },
     "metadata": {},
     "output_type": "display_data"
    },
    {
     "name": "stdout",
     "output_type": "stream",
     "text": [
      "\n",
      "(5000, 76, 76, 1) (5000, 5, 5, 11) (5000, 76, 76, 6)\n"
     ]
    }
   ],
   "source": [
    "Images = []\n",
    "Labels = []\n",
    "Masks = []\n",
    "\n",
    "\n",
    "for img_file in notebook.tqdm(img_files):\n",
    "    # Writing image to array\n",
    "    img = cv2.imread(os.path.join(src_dir, 'Images', img_file), 0)\n",
    "    img = cv2.resize(img, (img_ht,img_wd))\n",
    "    \n",
    "    Images.append(img.reshape(img_ht, img_wd, 1)/255.)\n",
    "    \n",
    "    #Writing label to array\n",
    "    lab_file = 'Lab_' + img_file.split('_')[-1].split('.')[0] + '.txt'\n",
    "    label = np.genfromtxt(os.path.join(src_dir, 'Labels_yolo', lab_file), delimiter = ',')\n",
    "    \n",
    "    Labels.append(label.reshape(GRID,GRID,5+len(shapes)+1))\n",
    "    \n",
    "    mask_arr = []\n",
    "    mask_str = 'Mask_' + img_file.split('_')[-1].split('.')[0] + '_'\n",
    "    mask_ind = [ind for ind, name in enumerate(os.listdir(os.path.join(src_dir, 'Masks'))) if mask_str in name]\n",
    "    #Writing masks to array\n",
    "    newimg = np.zeros((img.shape[0], img.shape[1]))\n",
    "    for ind in mask_ind:\n",
    "        if mask_files[ind].split('_')[-1].split('.')[0] != 'Empty':\n",
    "            shape = mask_files[ind].split('_')[-1].split('.')[0]\n",
    "            maskimg = cv2.imread(os.path.join(src_dir, 'Masks', mask_files[ind]), 0)\n",
    "            maskimg = cv2.resize(maskimg, (img.shape[0], img.shape[1]))\n",
    "            \n",
    "            i = shapes.index(shape)\n",
    "            for j in range(img.shape[0]):\n",
    "                for k in range(img.shape[1]):\n",
    "                    if maskimg[j,k] == 0:\n",
    "                        newimg[j,k] = i+1\n",
    "           \n",
    "    Masks.append(newimg.reshape(img_ht, img_wd, 1))\n",
    "                            \n",
    "Images = np.array(Images)\n",
    "Labels = np.array(Labels)\n",
    "Masks = keras.utils.to_categorical(np.array(Masks), (len(shapes)+1))\n",
    "# Masks = np.array(Masks)\n",
    "\n",
    "print(Images.shape, Labels.shape, Masks.shape)"
   ]
  },
  {
   "cell_type": "code",
   "execution_count": 8,
   "metadata": {},
   "outputs": [
    {
     "data": {
      "image/png": "[encoded data removed]",
      "text/plain": [
       "<Figure size 432x288 with 1 Axes>"
      ]
     },
     "metadata": {
      "needs_background": "light"
     },
     "output_type": "display_data"
    },
    {
     "data": {
      "image/png": "[encoded data removed]",
      "text/plain": [
       "<Figure size 432x288 with 1 Axes>"
      ]
     },
     "metadata": {
      "needs_background": "light"
     },
     "output_type": "display_data"
    },
    {
     "data": {
      "image/png": "[encoded data removed]",
      "text/plain": [
       "<Figure size 432x288 with 1 Axes>"
      ]
     },
     "metadata": {
      "needs_background": "light"
     },
     "output_type": "display_data"
    },
    {
     "data": {
      "image/png": "[encoded data removed]",
      "text/plain": [
       "<Figure size 432x288 with 1 Axes>"
      ]
     },
     "metadata": {
      "needs_background": "light"
     },
     "output_type": "display_data"
    },
    {
     "data": {
      "image/png": "[encoded data removed]",
      "text/plain": [
       "<Figure size 432x288 with 1 Axes>"
      ]
     },
     "metadata": {
      "needs_background": "light"
     },
     "output_type": "display_data"
    },
    {
     "data": {
      "image/png": "[encoded data removed]",
      "text/plain": [
       "<Figure size 432x288 with 1 Axes>"
      ]
     },
     "metadata": {
      "needs_background": "light"
     },
     "output_type": "display_data"
    },
    {
     "data": {
      "image/png": "[encoded data removed]",
      "text/plain": [
       "<Figure size 432x288 with 1 Axes>"
      ]
     },
     "metadata": {
      "needs_background": "light"
     },
     "output_type": "display_data"
    }
   ],
   "source": [
    "ind = random.randint(0,99)\n",
    "plt.figure()\n",
    "plt.imshow(Images[ind].reshape(76,76))\n",
    "for i in range(len(shapes)+1):\n",
    "    plt.figure()\n",
    "    plt.imshow(Masks[ind,:,:,i].reshape(76,76))\n"
   ]
  },
  {
   "cell_type": "code",
   "execution_count": null,
   "metadata": {},
   "outputs": [],
   "source": []
  },
  {
   "cell_type": "code",
   "execution_count": 9,
   "metadata": {},
   "outputs": [
    {
     "name": "stdout",
     "output_type": "stream",
     "text": [
      "Model: \"model_1\"\n",
      "__________________________________________________________________________________________________\n",
      "Layer (type)                    Output Shape         Param #     Connected to                     \n",
      "==================================================================================================\n",
      "img_input (InputLayer)          (None, 76, 76, 1)    0                                            \n",
      "__________________________________________________________________________________________________\n",
      "conv2d_1 (Conv2D)               (None, 76, 76, 32)   320         img_input[0][0]                  \n",
      "__________________________________________________________________________________________________\n",
      "leaky_re_lu_1 (LeakyReLU)       (None, 76, 76, 32)   0           conv2d_1[0][0]                   \n",
      "__________________________________________________________________________________________________\n",
      "batch_normalization_1 (BatchNor (None, 76, 76, 32)   128         leaky_re_lu_1[0][0]              \n",
      "__________________________________________________________________________________________________\n",
      "conv2d_2 (Conv2D)               (None, 76, 76, 32)   9248        batch_normalization_1[0][0]      \n",
      "__________________________________________________________________________________________________\n",
      "leaky_re_lu_2 (LeakyReLU)       (None, 76, 76, 32)   0           conv2d_2[0][0]                   \n",
      "__________________________________________________________________________________________________\n",
      "batch_normalization_2 (BatchNor (None, 76, 76, 32)   128         leaky_re_lu_2[0][0]              \n",
      "__________________________________________________________________________________________________\n",
      "max_pooling2d_1 (MaxPooling2D)  (None, 38, 38, 32)   0           batch_normalization_2[0][0]      \n",
      "__________________________________________________________________________________________________\n",
      "conv2d_3 (Conv2D)               (None, 38, 38, 64)   18496       max_pooling2d_1[0][0]            \n",
      "__________________________________________________________________________________________________\n",
      "leaky_re_lu_3 (LeakyReLU)       (None, 38, 38, 64)   0           conv2d_3[0][0]                   \n",
      "__________________________________________________________________________________________________\n",
      "batch_normalization_3 (BatchNor (None, 38, 38, 64)   256         leaky_re_lu_3[0][0]              \n",
      "__________________________________________________________________________________________________\n",
      "conv2d_4 (Conv2D)               (None, 38, 38, 64)   36928       batch_normalization_3[0][0]      \n",
      "__________________________________________________________________________________________________\n",
      "leaky_re_lu_4 (LeakyReLU)       (None, 38, 38, 64)   0           conv2d_4[0][0]                   \n",
      "__________________________________________________________________________________________________\n",
      "batch_normalization_4 (BatchNor (None, 38, 38, 64)   256         leaky_re_lu_4[0][0]              \n",
      "__________________________________________________________________________________________________\n",
      "max_pooling2d_2 (MaxPooling2D)  (None, 19, 19, 64)   0           batch_normalization_4[0][0]      \n",
      "__________________________________________________________________________________________________\n",
      "conv2d_5 (Conv2D)               (None, 19, 19, 128)  73856       max_pooling2d_2[0][0]            \n",
      "__________________________________________________________________________________________________\n",
      "leaky_re_lu_5 (LeakyReLU)       (None, 19, 19, 128)  0           conv2d_5[0][0]                   \n",
      "__________________________________________________________________________________________________\n",
      "batch_normalization_5 (BatchNor (None, 19, 19, 128)  512         leaky_re_lu_5[0][0]              \n",
      "__________________________________________________________________________________________________\n",
      "conv2d_6 (Conv2D)               (None, 19, 19, 64)   8256        batch_normalization_5[0][0]      \n",
      "__________________________________________________________________________________________________\n",
      "leaky_re_lu_6 (LeakyReLU)       (None, 19, 19, 64)   0           conv2d_6[0][0]                   \n",
      "__________________________________________________________________________________________________\n",
      "batch_normalization_6 (BatchNor (None, 19, 19, 64)   256         leaky_re_lu_6[0][0]              \n",
      "__________________________________________________________________________________________________\n",
      "conv2d_7 (Conv2D)               (None, 19, 19, 128)  73856       batch_normalization_6[0][0]      \n",
      "__________________________________________________________________________________________________\n",
      "leaky_re_lu_7 (LeakyReLU)       (None, 19, 19, 128)  0           conv2d_7[0][0]                   \n",
      "__________________________________________________________________________________________________\n",
      "batch_normalization_7 (BatchNor (None, 19, 19, 128)  512         leaky_re_lu_7[0][0]              \n",
      "__________________________________________________________________________________________________\n",
      "max_pooling2d_3 (MaxPooling2D)  (None, 9, 9, 128)    0           batch_normalization_7[0][0]      \n",
      "__________________________________________________________________________________________________\n",
      "conv2d_8 (Conv2D)               (None, 9, 9, 192)    221376      max_pooling2d_3[0][0]            \n",
      "__________________________________________________________________________________________________\n",
      "leaky_re_lu_8 (LeakyReLU)       (None, 9, 9, 192)    0           conv2d_8[0][0]                   \n",
      "__________________________________________________________________________________________________\n",
      "batch_normalization_8 (BatchNor (None, 9, 9, 192)    768         leaky_re_lu_8[0][0]              \n",
      "__________________________________________________________________________________________________\n",
      "conv2d_9 (Conv2D)               (None, 9, 9, 128)    24704       batch_normalization_8[0][0]      \n",
      "__________________________________________________________________________________________________\n",
      "leaky_re_lu_9 (LeakyReLU)       (None, 9, 9, 128)    0           conv2d_9[0][0]                   \n",
      "__________________________________________________________________________________________________\n",
      "batch_normalization_9 (BatchNor (None, 9, 9, 128)    512         leaky_re_lu_9[0][0]              \n",
      "__________________________________________________________________________________________________\n",
      "conv2d_10 (Conv2D)              (None, 9, 9, 192)    221376      batch_normalization_9[0][0]      \n",
      "__________________________________________________________________________________________________\n",
      "leaky_re_lu_10 (LeakyReLU)      (None, 9, 9, 192)    0           conv2d_10[0][0]                  \n",
      "__________________________________________________________________________________________________\n",
      "batch_normalization_10 (BatchNo (None, 9, 9, 192)    768         leaky_re_lu_10[0][0]             \n",
      "__________________________________________________________________________________________________\n",
      "max_pooling2d_4 (MaxPooling2D)  (None, 4, 4, 192)    0           batch_normalization_10[0][0]     \n",
      "__________________________________________________________________________________________________\n",
      "conv2d_11 (Conv2D)              (None, 4, 4, 192)    331968      max_pooling2d_4[0][0]            \n",
      "__________________________________________________________________________________________________\n",
      "leaky_re_lu_11 (LeakyReLU)      (None, 4, 4, 192)    0           conv2d_11[0][0]                  \n",
      "__________________________________________________________________________________________________\n",
      "batch_normalization_11 (BatchNo (None, 4, 4, 192)    768         leaky_re_lu_11[0][0]             \n",
      "__________________________________________________________________________________________________\n",
      "up_sampling2d_1 (UpSampling2D)  (None, 8, 8, 192)    0           batch_normalization_11[0][0]     \n",
      "__________________________________________________________________________________________________\n",
      "cropping2d_1 (Cropping2D)       (None, 8, 8, 192)    0           batch_normalization_10[0][0]     \n",
      "__________________________________________________________________________________________________\n",
      "concatenate_1 (Concatenate)     (None, 8, 8, 384)    0           up_sampling2d_1[0][0]            \n",
      "                                                                 cropping2d_1[0][0]               \n",
      "__________________________________________________________________________________________________\n",
      "conv2d_12 (Conv2D)              (None, 8, 8, 128)    442496      concatenate_1[0][0]              \n",
      "__________________________________________________________________________________________________\n",
      "leaky_re_lu_12 (LeakyReLU)      (None, 8, 8, 128)    0           conv2d_12[0][0]                  \n",
      "__________________________________________________________________________________________________\n",
      "batch_normalization_12 (BatchNo (None, 8, 8, 128)    512         leaky_re_lu_12[0][0]             \n",
      "__________________________________________________________________________________________________\n",
      "conv2d_13 (Conv2D)              (None, 8, 8, 128)    147584      batch_normalization_12[0][0]     \n",
      "__________________________________________________________________________________________________\n",
      "leaky_re_lu_13 (LeakyReLU)      (None, 8, 8, 128)    0           conv2d_13[0][0]                  \n",
      "__________________________________________________________________________________________________\n",
      "batch_normalization_13 (BatchNo (None, 8, 8, 128)    512         leaky_re_lu_13[0][0]             \n",
      "__________________________________________________________________________________________________\n",
      "cropping2d_2 (Cropping2D)       (None, 16, 16, 128)  0           batch_normalization_7[0][0]      \n",
      "__________________________________________________________________________________________________\n",
      "up_sampling2d_2 (UpSampling2D)  (None, 16, 16, 128)  0           batch_normalization_13[0][0]     \n",
      "__________________________________________________________________________________________________\n",
      "concatenate_2 (Concatenate)     (None, 16, 16, 256)  0           cropping2d_2[0][0]               \n",
      "                                                                 up_sampling2d_2[0][0]            \n",
      "__________________________________________________________________________________________________\n",
      "conv2d_14 (Conv2D)              (None, 16, 16, 64)   147520      concatenate_2[0][0]              \n",
      "__________________________________________________________________________________________________\n",
      "leaky_re_lu_14 (LeakyReLU)      (None, 16, 16, 64)   0           conv2d_14[0][0]                  \n",
      "__________________________________________________________________________________________________\n",
      "batch_normalization_14 (BatchNo (None, 16, 16, 64)   256         leaky_re_lu_14[0][0]             \n",
      "__________________________________________________________________________________________________\n",
      "conv2d_15 (Conv2D)              (None, 16, 16, 64)   36928       batch_normalization_14[0][0]     \n",
      "__________________________________________________________________________________________________\n",
      "leaky_re_lu_15 (LeakyReLU)      (None, 16, 16, 64)   0           conv2d_15[0][0]                  \n",
      "__________________________________________________________________________________________________\n",
      "batch_normalization_15 (BatchNo (None, 16, 16, 64)   256         leaky_re_lu_15[0][0]             \n",
      "__________________________________________________________________________________________________\n",
      "cropping2d_3 (Cropping2D)       (None, 32, 32, 64)   0           batch_normalization_4[0][0]      \n",
      "__________________________________________________________________________________________________\n",
      "up_sampling2d_3 (UpSampling2D)  (None, 32, 32, 64)   0           batch_normalization_15[0][0]     \n",
      "__________________________________________________________________________________________________\n",
      "concatenate_3 (Concatenate)     (None, 32, 32, 128)  0           cropping2d_3[0][0]               \n",
      "                                                                 up_sampling2d_3[0][0]            \n",
      "__________________________________________________________________________________________________\n",
      "conv2d_16 (Conv2D)              (None, 32, 32, 32)   36896       concatenate_3[0][0]              \n",
      "__________________________________________________________________________________________________\n",
      "leaky_re_lu_16 (LeakyReLU)      (None, 32, 32, 32)   0           conv2d_16[0][0]                  \n",
      "__________________________________________________________________________________________________\n",
      "batch_normalization_16 (BatchNo (None, 32, 32, 32)   128         leaky_re_lu_16[0][0]             \n",
      "__________________________________________________________________________________________________\n",
      "conv2d_17 (Conv2D)              (None, 32, 32, 32)   9248        batch_normalization_16[0][0]     \n",
      "__________________________________________________________________________________________________\n",
      "leaky_re_lu_17 (LeakyReLU)      (None, 32, 32, 32)   0           conv2d_17[0][0]                  \n",
      "__________________________________________________________________________________________________\n",
      "batch_normalization_17 (BatchNo (None, 32, 32, 32)   128         leaky_re_lu_17[0][0]             \n",
      "__________________________________________________________________________________________________\n",
      "up_sampling2d_4 (UpSampling2D)  (None, 96, 96, 32)   0           batch_normalization_17[0][0]     \n",
      "__________________________________________________________________________________________________\n",
      "cropping2d_4 (Cropping2D)       (None, 76, 76, 32)   0           up_sampling2d_4[0][0]            \n",
      "__________________________________________________________________________________________________\n",
      "global_max_pooling2d_1 (GlobalM (None, 192)          0           batch_normalization_11[0][0]     \n",
      "__________________________________________________________________________________________________\n",
      "concatenate_4 (Concatenate)     (None, 76, 76, 64)   0           batch_normalization_2[0][0]      \n",
      "                                                                 cropping2d_4[0][0]               \n",
      "__________________________________________________________________________________________________\n",
      "dense_1 (Dense)                 (None, 1024)         197632      global_max_pooling2d_1[0][0]     \n",
      "__________________________________________________________________________________________________\n",
      "conv2d_18 (Conv2D)              (None, 76, 76, 16)   1040        concatenate_4[0][0]              \n",
      "__________________________________________________________________________________________________\n",
      "dropout_1 (Dropout)             (None, 1024)         0           dense_1[0][0]                    \n",
      "__________________________________________________________________________________________________\n",
      "leaky_re_lu_18 (LeakyReLU)      (None, 76, 76, 16)   0           conv2d_18[0][0]                  \n",
      "__________________________________________________________________________________________________\n",
      "dense_2 (Dense)                 (None, 275)          281875      dropout_1[0][0]                  \n",
      "__________________________________________________________________________________________________\n",
      "batch_normalization_18 (BatchNo (None, 76, 76, 16)   64          leaky_re_lu_18[0][0]             \n",
      "__________________________________________________________________________________________________\n",
      "yolo_out (Reshape)              (None, 5, 5, 11)     0           dense_2[0][0]                    \n",
      "__________________________________________________________________________________________________\n",
      "mask_out (Conv2D)               (None, 76, 76, 6)    102         batch_normalization_18[0][0]     \n",
      "==================================================================================================\n",
      "Total params: 2,328,425\n",
      "Trainable params: 2,325,065\n",
      "Non-trainable params: 3,360\n",
      "__________________________________________________________________________________________________\n"
     ]
    }
   ],
   "source": [
    "main_input = Input(shape=(img_ht,img_wd,1), name = 'img_input')\n",
    "\n",
    "''' ~~~~~~~~~~~~~~~~~~~ ENCODING LAYERS ~~~~~~~~~~~~~~~~~~~ '''\n",
    "\n",
    "c1 = Conv2D(32, kernel_size=(3,3), padding = 'same')(main_input)\n",
    "c1 = LeakyReLU(0.2)(c1)\n",
    "c1 = BatchNormalization()(c1)\n",
    "c1 = Conv2D(32, kernel_size=(3,3), padding = 'same')(c1)\n",
    "c1 = LeakyReLU(0.2)(c1)\n",
    "c1 = BatchNormalization()(c1)\n",
    "\n",
    "p1 = MaxPooling2D((2,2))(c1)\n",
    "\n",
    "c2 = Conv2D(32*2, kernel_size=(3,3), padding = 'same')(p1)\n",
    "c2 = LeakyReLU(0.2)(c2)\n",
    "c2 = BatchNormalization()(c2)\n",
    "c2 = Conv2D(32*2, kernel_size=(3,3), padding = 'same')(c2)\n",
    "c2 = LeakyReLU(0.2)(c2)\n",
    "c2 = BatchNormalization()(c2)\n",
    "\n",
    "p2 = MaxPooling2D((2,2))(c2)\n",
    "\n",
    "c3 = Conv2D(32*4, kernel_size=(3,3), padding = 'same')(p2)\n",
    "c3 = LeakyReLU(0.2)(c3)\n",
    "c3 = BatchNormalization()(c3)\n",
    "c3 = Conv2D(32*2, kernel_size=(1,1), padding = 'same')(c3)\n",
    "c3 = LeakyReLU(0.2)(c3)\n",
    "c3 = BatchNormalization()(c3)\n",
    "c3 = Conv2D(32*4, kernel_size=(3,3), padding = 'same')(c3)\n",
    "c3 = LeakyReLU(0.2)(c3)\n",
    "c3 = BatchNormalization()(c3)\n",
    "\n",
    "p3 = MaxPooling2D((2,2))(c3)\n",
    "\n",
    "c4 = Conv2D(32*6, kernel_size=(3,3), padding = 'same')(p3)\n",
    "c4 = LeakyReLU(0.2)(c4)\n",
    "c4 = BatchNormalization()(c4)\n",
    "c4 = Conv2D(32*4, kernel_size=(1,1), padding = 'same')(c4)\n",
    "c4 = LeakyReLU(0.2)(c4)\n",
    "c4 = BatchNormalization()(c4)\n",
    "c4 = Conv2D(32*6, kernel_size=(3,3), padding = 'same')(c4)\n",
    "c4 = LeakyReLU(0.2)(c4)\n",
    "c4 = BatchNormalization()(c4)\n",
    "\n",
    "p4 = MaxPooling2D((2,2))(c4)\n",
    "\n",
    "c5 = Conv2D(32*6, kernel_size=(3,3), padding = 'same')(p4)\n",
    "c5 = LeakyReLU(0.2)(c5)\n",
    "c5 = BatchNormalization()(c5)\n",
    "\n",
    "''' ~~~~~~~~~~~~~~~~~~~ YOLO OUTPUT ~~~~~~~~~~~~~~~~~~~ '''\n",
    "\n",
    "x = GlobalMaxPooling2D()(c5)\n",
    "\n",
    "x1 = Dense(1024, activation = 'relu')(x)\n",
    "\n",
    "x1 = Dropout(0.3)(x1)\n",
    "\n",
    "x1 = Dense(GRID*GRID*(5+len(shapes)+1), activation = 'sigmoid')(x1)\n",
    "\n",
    "yolo_out = Reshape((GRID, GRID, (5+len(shapes)+1)), name = 'yolo_out')(x1)\n",
    "\n",
    "''' ~~~~~~~~~~~~~~~~~~~ DECODING LAYERS ~~~~~~~~~~~~~~~~~~~ '''\n",
    "\n",
    "u1 = UpSampling2D((2,2))(c5)\n",
    "concat1 = concatenate([u1, Cropping2D(((1,0), (1,0)))(c4)])\n",
    "\n",
    "c6 = Conv2D(32*4, kernel_size=(3,3), padding = 'same')(concat1)\n",
    "c6 = LeakyReLU(0.2)(c6)\n",
    "c6 = BatchNormalization()(c6)\n",
    "c6 = Conv2D(32*4, kernel_size=(3,3), padding = 'same')(c6)\n",
    "c6 = LeakyReLU(0.2)(c6)\n",
    "c6 = BatchNormalization()(c6)\n",
    "\n",
    "\n",
    "u2 = UpSampling2D((2,2))(c6)\n",
    "concat2 = concatenate([Cropping2D(((2,1), (2,1)))(c3), u2])\n",
    "\n",
    "c7 = Conv2D(32*2, kernel_size=(3,3), padding = 'same')(concat2)\n",
    "c7 = LeakyReLU(0.2)(c7)\n",
    "c7 = BatchNormalization()(c7)\n",
    "c7 = Conv2D(32*2, kernel_size=(3,3), padding = 'same')(c7)\n",
    "c7 = LeakyReLU(0.2)(c7)\n",
    "c7 = BatchNormalization()(c7)\n",
    "\n",
    "u3 = UpSampling2D((2,2))(c7)\n",
    "concat3 = concatenate([Cropping2D(((3,3), (3,3)))(c2), u3])\n",
    "\n",
    "c8 = Conv2D(32, kernel_size=(3,3), padding = 'same')(concat3)\n",
    "c8 = LeakyReLU(0.2)(c8)\n",
    "c8 = BatchNormalization()(c8)\n",
    "c8 = Conv2D(32, kernel_size=(3,3), padding = 'same')(c8)\n",
    "c8 = LeakyReLU(0.2)(c8)\n",
    "c8 = BatchNormalization()(c8)\n",
    "\n",
    "u4 = UpSampling2D((3,3))(c8)\n",
    "concat4 = concatenate([c1, Cropping2D((10,10))(u4)])\n",
    "\n",
    "c9 = Conv2D(16, kernel_size = (1,1), padding = 'same')(concat4)\n",
    "c9 = LeakyReLU(0.2)(c9)\n",
    "c9 = BatchNormalization()(c9)\n",
    "\n",
    "mask_out = Conv2D(len(shapes)+1, (1,1), padding = 'same', activation = 'sigmoid', name = 'mask_out')(c9)\n",
    "\n",
    "model = Model(inputs = [main_input], outputs = [yolo_out, mask_out])\n",
    "\n",
    "# plot_model(model, to_file='model_plot.png', show_shapes=True, show_layer_names=True)\n",
    "model.summary()"
   ]
  },
  {
   "cell_type": "code",
   "execution_count": 10,
   "metadata": {},
   "outputs": [],
   "source": [
    "def yolo_loss (y_true, y_pred):\n",
    "\n",
    "    x_loss = K.sum((K.square(y_pred[...,1] - y_true[...,1]))*y_true[...,0])\n",
    "    y_loss = K.sum((K.square(y_pred[...,2] - y_true[...,2]))*y_true[...,0])\n",
    "    w_loss = K.sum((K.square(y_pred[...,3] - y_true[...,3]))*y_true[...,0])\n",
    "    h_loss = K.sum((K.square(y_pred[...,4] - y_true[...,4]))*y_true[...,0])\n",
    "    \n",
    "    #category loss\n",
    "    pc_loss = K.categorical_crossentropy(y_true[...,5:], y_pred[...,5:])*y_true[...,0]\n",
    "    \n",
    "    #confidence loss\n",
    "    c_loss = K.binary_crossentropy(y_true[...,0], y_pred[...,0])\n",
    "    \n",
    "    total_loss = x_loss + y_loss + w_loss + h_loss + pc_loss + c_loss \n",
    "    \n",
    "    return total_loss"
   ]
  },
  {
   "cell_type": "code",
   "execution_count": 11,
   "metadata": {},
   "outputs": [],
   "source": [
    "loss_funcs = {\n",
    "    \"yolo_out\": yolo_loss,\n",
    "    \"mask_out\": 'categorical_crossentropy'\n",
    "}\n",
    "\n",
    "model.compile(optimizer = 'adam', loss = loss_funcs, metrics = ['accuracy'])"
   ]
  },
  {
   "cell_type": "code",
   "execution_count": 12,
   "metadata": {},
   "outputs": [],
   "source": [
    "# filepath=\"weights-improvement-{epoch:02d}-{val_accuracy:.2f}.hdf5\"\n",
    "# checkpoint = ModelCheckpoint(filepath, monitor='val_accuracy', verbose=1, save_best_only=True, mode='max')\n",
    "# callbacks_list = [checkpoint]"
   ]
  },
  {
   "cell_type": "code",
   "execution_count": 13,
   "metadata": {},
   "outputs": [
    {
     "name": "stdout",
     "output_type": "stream",
     "text": [
      "Train on 4500 samples, validate on 500 samples\n",
      "Epoch 1/75\n",
      "4500/4500 [==============================] - 17s 4ms/step - loss: 3.7632 - yolo_out_loss: 2.6381 - mask_out_loss: 1.1196 - yolo_out_accuracy: 0.0020 - mask_out_accuracy: 0.6627 - val_loss: 2.9249 - val_yolo_out_loss: 2.3002 - val_mask_out_loss: 0.6129 - val_yolo_out_accuracy: 0.0000e+00 - val_mask_out_accuracy: 0.9245\n",
      "Epoch 2/75\n",
      "4500/4500 [==============================] - 8s 2ms/step - loss: 1.5522 - yolo_out_loss: 1.0514 - mask_out_loss: 0.4996 - yolo_out_accuracy: 0.0000e+00 - mask_out_accuracy: 0.8562 - val_loss: 2.4532 - val_yolo_out_loss: 2.1776 - val_mask_out_loss: 0.2638 - val_yolo_out_accuracy: 0.0000e+00 - val_mask_out_accuracy: 0.9225\n",
      "Epoch 3/75\n",
      "4500/4500 [==============================] - 8s 2ms/step - loss: 1.1101 - yolo_out_loss: 0.8524 - mask_out_loss: 0.2566 - yolo_out_accuracy: 6.2222e-05 - mask_out_accuracy: 0.9062 - val_loss: 2.3959 - val_yolo_out_loss: 2.1839 - val_mask_out_loss: 0.1978 - val_yolo_out_accuracy: 0.0000e+00 - val_mask_out_accuracy: 0.9237\n",
      "Epoch 4/75\n",
      "4500/4500 [==============================] - 7s 2ms/step - loss: 0.9201 - yolo_out_loss: 0.7185 - mask_out_loss: 0.2011 - yolo_out_accuracy: 0.0011 - mask_out_accuracy: 0.9119 - val_loss: 1.2478 - val_yolo_out_loss: 1.0551 - val_mask_out_loss: 0.1860 - val_yolo_out_accuracy: 7.2000e-04 - val_mask_out_accuracy: 0.9133\n",
      "Epoch 5/75\n",
      "4500/4500 [==============================] - 7s 2ms/step - loss: 0.8575 - yolo_out_loss: 0.6715 - mask_out_loss: 0.1856 - yolo_out_accuracy: 0.0041 - mask_out_accuracy: 0.9131 - val_loss: 0.7259 - val_yolo_out_loss: 0.5436 - val_mask_out_loss: 0.1798 - val_yolo_out_accuracy: 0.0029 - val_mask_out_accuracy: 0.9132\n",
      "Epoch 6/75\n",
      "4500/4500 [==============================] - 8s 2ms/step - loss: 0.7777 - yolo_out_loss: 0.5984 - mask_out_loss: 0.1791 - yolo_out_accuracy: 0.0095 - mask_out_accuracy: 0.9140 - val_loss: 0.7085 - val_yolo_out_loss: 0.5306 - val_mask_out_loss: 0.1758 - val_yolo_out_accuracy: 0.0136 - val_mask_out_accuracy: 0.9141\n",
      "Epoch 7/75\n",
      "4500/4500 [==============================] - 8s 2ms/step - loss: 0.7362 - yolo_out_loss: 0.5600 - mask_out_loss: 0.1755 - yolo_out_accuracy: 0.0163 - mask_out_accuracy: 0.9152 - val_loss: 0.6637 - val_yolo_out_loss: 0.4895 - val_mask_out_loss: 0.1723 - val_yolo_out_accuracy: 0.0154 - val_mask_out_accuracy: 0.9149\n",
      "Epoch 8/75\n",
      "4500/4500 [==============================] - 7s 2ms/step - loss: 0.6922 - yolo_out_loss: 0.5192 - mask_out_loss: 0.1728 - yolo_out_accuracy: 0.0251 - mask_out_accuracy: 0.9165 - val_loss: 0.6930 - val_yolo_out_loss: 0.5177 - val_mask_out_loss: 0.1723 - val_yolo_out_accuracy: 0.0210 - val_mask_out_accuracy: 0.9167\n",
      "Epoch 9/75\n",
      "4500/4500 [==============================] - 7s 2ms/step - loss: 0.6789 - yolo_out_loss: 0.5080 - mask_out_loss: 0.1706 - yolo_out_accuracy: 0.0335 - mask_out_accuracy: 0.9187 - val_loss: 0.5889 - val_yolo_out_loss: 0.4156 - val_mask_out_loss: 0.1718 - val_yolo_out_accuracy: 0.0307 - val_mask_out_accuracy: 0.9177\n",
      "Epoch 10/75\n",
      "4500/4500 [==============================] - 8s 2ms/step - loss: 0.6385 - yolo_out_loss: 0.4697 - mask_out_loss: 0.1686 - yolo_out_accuracy: 0.0403 - mask_out_accuracy: 0.9230 - val_loss: 0.6522 - val_yolo_out_loss: 0.4852 - val_mask_out_loss: 0.1667 - val_yolo_out_accuracy: 0.0405 - val_mask_out_accuracy: 0.9196\n",
      "Epoch 11/75\n",
      "4500/4500 [==============================] - 7s 2ms/step - loss: 0.5994 - yolo_out_loss: 0.4498 - mask_out_loss: 0.1496 - yolo_out_accuracy: 0.0444 - mask_out_accuracy: 0.9340 - val_loss: 0.6591 - val_yolo_out_loss: 0.3900 - val_mask_out_loss: 0.2681 - val_yolo_out_accuracy: 0.0450 - val_mask_out_accuracy: 0.9296\n",
      "Epoch 12/75\n",
      "4500/4500 [==============================] - 8s 2ms/step - loss: 0.5076 - yolo_out_loss: 0.4235 - mask_out_loss: 0.0839 - yolo_out_accuracy: 0.0477 - mask_out_accuracy: 0.9695 - val_loss: 0.4606 - val_yolo_out_loss: 0.3556 - val_mask_out_loss: 0.1043 - val_yolo_out_accuracy: 0.0460 - val_mask_out_accuracy: 0.9593\n",
      "Epoch 13/75\n",
      "4500/4500 [==============================] - 8s 2ms/step - loss: 0.4704 - yolo_out_loss: 0.4149 - mask_out_loss: 0.0554 - yolo_out_accuracy: 0.0504 - mask_out_accuracy: 0.9809 - val_loss: 0.4421 - val_yolo_out_loss: 0.3982 - val_mask_out_loss: 0.0421 - val_yolo_out_accuracy: 0.0505 - val_mask_out_accuracy: 0.9846\n",
      "Epoch 14/75\n",
      "4500/4500 [==============================] - 7s 2ms/step - loss: 0.4396 - yolo_out_loss: 0.4039 - mask_out_loss: 0.0356 - yolo_out_accuracy: 0.0531 - mask_out_accuracy: 0.9884 - val_loss: 0.4815 - val_yolo_out_loss: 0.4415 - val_mask_out_loss: 0.0372 - val_yolo_out_accuracy: 0.0576 - val_mask_out_accuracy: 0.9871\n",
      "Epoch 15/75\n",
      "4500/4500 [==============================] - 8s 2ms/step - loss: 0.4172 - yolo_out_loss: 0.3893 - mask_out_loss: 0.0276 - yolo_out_accuracy: 0.0546 - mask_out_accuracy: 0.9909 - val_loss: 0.3533 - val_yolo_out_loss: 0.3246 - val_mask_out_loss: 0.0273 - val_yolo_out_accuracy: 0.0559 - val_mask_out_accuracy: 0.9907\n",
      "Epoch 16/75\n",
      "4500/4500 [==============================] - 7s 2ms/step - loss: 0.4020 - yolo_out_loss: 0.3803 - mask_out_loss: 0.0214 - yolo_out_accuracy: 0.0562 - mask_out_accuracy: 0.9930 - val_loss: 0.3873 - val_yolo_out_loss: 0.3599 - val_mask_out_loss: 0.0255 - val_yolo_out_accuracy: 0.0563 - val_mask_out_accuracy: 0.9917\n",
      "Epoch 17/75\n",
      "4500/4500 [==============================] - 7s 2ms/step - loss: 0.3796 - yolo_out_loss: 0.3611 - mask_out_loss: 0.0180 - yolo_out_accuracy: 0.0572 - mask_out_accuracy: 0.9941 - val_loss: 0.3172 - val_yolo_out_loss: 0.2981 - val_mask_out_loss: 0.0180 - val_yolo_out_accuracy: 0.0640 - val_mask_out_accuracy: 0.9937\n",
      "Epoch 18/75\n",
      "4500/4500 [==============================] - 8s 2ms/step - loss: 0.3738 - yolo_out_loss: 0.3558 - mask_out_loss: 0.0178 - yolo_out_accuracy: 0.0584 - mask_out_accuracy: 0.9941 - val_loss: 0.3651 - val_yolo_out_loss: 0.3273 - val_mask_out_loss: 0.0360 - val_yolo_out_accuracy: 0.0591 - val_mask_out_accuracy: 0.9883\n",
      "Epoch 19/75\n",
      "4500/4500 [==============================] - 8s 2ms/step - loss: 0.3660 - yolo_out_loss: 0.3521 - mask_out_loss: 0.0139 - yolo_out_accuracy: 0.0590 - mask_out_accuracy: 0.9953 - val_loss: 0.3445 - val_yolo_out_loss: 0.3267 - val_mask_out_loss: 0.0165 - val_yolo_out_accuracy: 0.0639 - val_mask_out_accuracy: 0.9939\n",
      "Epoch 20/75\n",
      "4500/4500 [==============================] - 7s 2ms/step - loss: 0.3529 - yolo_out_loss: 0.3398 - mask_out_loss: 0.0129 - yolo_out_accuracy: 0.0607 - mask_out_accuracy: 0.9957 - val_loss: 0.3673 - val_yolo_out_loss: 0.3483 - val_mask_out_loss: 0.0170 - val_yolo_out_accuracy: 0.0577 - val_mask_out_accuracy: 0.9942\n",
      "Epoch 21/75\n",
      "4500/4500 [==============================] - 7s 2ms/step - loss: 0.3411 - yolo_out_loss: 0.3292 - mask_out_loss: 0.0115 - yolo_out_accuracy: 0.0610 - mask_out_accuracy: 0.9961 - val_loss: 0.2907 - val_yolo_out_loss: 0.2750 - val_mask_out_loss: 0.0145 - val_yolo_out_accuracy: 0.0615 - val_mask_out_accuracy: 0.9942\n",
      "Epoch 22/75\n",
      "4500/4500 [==============================] - 7s 2ms/step - loss: 0.3237 - yolo_out_loss: 0.3141 - mask_out_loss: 0.0096 - yolo_out_accuracy: 0.0618 - mask_out_accuracy: 0.9968 - val_loss: 0.3217 - val_yolo_out_loss: 0.2885 - val_mask_out_loss: 0.0314 - val_yolo_out_accuracy: 0.0609 - val_mask_out_accuracy: 0.9910\n",
      "Epoch 23/75\n",
      "4500/4500 [==============================] - 8s 2ms/step - loss: 0.3342 - yolo_out_loss: 0.3241 - mask_out_loss: 0.0099 - yolo_out_accuracy: 0.0626 - mask_out_accuracy: 0.9966 - val_loss: 0.3467 - val_yolo_out_loss: 0.3289 - val_mask_out_loss: 0.0151 - val_yolo_out_accuracy: 0.0621 - val_mask_out_accuracy: 0.9957\n",
      "Epoch 24/75\n",
      "4500/4500 [==============================] - 7s 2ms/step - loss: 0.3152 - yolo_out_loss: 0.3067 - mask_out_loss: 0.0083 - yolo_out_accuracy: 0.0626 - mask_out_accuracy: 0.9971 - val_loss: 0.3433 - val_yolo_out_loss: 0.3213 - val_mask_out_loss: 0.0199 - val_yolo_out_accuracy: 0.0613 - val_mask_out_accuracy: 0.9935\n",
      "Epoch 25/75\n",
      "4500/4500 [==============================] - 7s 2ms/step - loss: 0.3174 - yolo_out_loss: 0.3082 - mask_out_loss: 0.0092 - yolo_out_accuracy: 0.0636 - mask_out_accuracy: 0.9968 - val_loss: 0.2745 - val_yolo_out_loss: 0.2596 - val_mask_out_loss: 0.0138 - val_yolo_out_accuracy: 0.0654 - val_mask_out_accuracy: 0.9951\n"
     ]
    },
    {
     "name": "stdout",
     "output_type": "stream",
     "text": [
      "Epoch 26/75\n",
      "4500/4500 [==============================] - 8s 2ms/step - loss: 0.3140 - yolo_out_loss: 0.3070 - mask_out_loss: 0.0067 - yolo_out_accuracy: 0.0642 - mask_out_accuracy: 0.9976 - val_loss: 0.2967 - val_yolo_out_loss: 0.2771 - val_mask_out_loss: 0.0188 - val_yolo_out_accuracy: 0.0678 - val_mask_out_accuracy: 0.9926\n",
      "Epoch 27/75\n",
      "4500/4500 [==============================] - 7s 2ms/step - loss: 0.3053 - yolo_out_loss: 0.2970 - mask_out_loss: 0.0083 - yolo_out_accuracy: 0.0640 - mask_out_accuracy: 0.9969 - val_loss: 0.2742 - val_yolo_out_loss: 0.2444 - val_mask_out_loss: 0.0287 - val_yolo_out_accuracy: 0.0637 - val_mask_out_accuracy: 0.9896\n",
      "Epoch 28/75\n",
      "4500/4500 [==============================] - 7s 2ms/step - loss: 0.3015 - yolo_out_loss: 0.2939 - mask_out_loss: 0.0074 - yolo_out_accuracy: 0.0650 - mask_out_accuracy: 0.9973 - val_loss: 0.2904 - val_yolo_out_loss: 0.2332 - val_mask_out_loss: 0.0567 - val_yolo_out_accuracy: 0.0656 - val_mask_out_accuracy: 0.9828\n",
      "Epoch 29/75\n",
      "4500/4500 [==============================] - 7s 2ms/step - loss: 0.2888 - yolo_out_loss: 0.2811 - mask_out_loss: 0.0076 - yolo_out_accuracy: 0.0650 - mask_out_accuracy: 0.9972 - val_loss: 0.2427 - val_yolo_out_loss: 0.2288 - val_mask_out_loss: 0.0134 - val_yolo_out_accuracy: 0.0670 - val_mask_out_accuracy: 0.9956\n",
      "Epoch 30/75\n",
      "4500/4500 [==============================] - 7s 2ms/step - loss: 0.2862 - yolo_out_loss: 0.2773 - mask_out_loss: 0.0087 - yolo_out_accuracy: 0.0659 - mask_out_accuracy: 0.9970 - val_loss: 0.2608 - val_yolo_out_loss: 0.2519 - val_mask_out_loss: 0.0071 - val_yolo_out_accuracy: 0.0654 - val_mask_out_accuracy: 0.9976\n",
      "Epoch 31/75\n",
      "4500/4500 [==============================] - 8s 2ms/step - loss: 0.2831 - yolo_out_loss: 0.2766 - mask_out_loss: 0.0065 - yolo_out_accuracy: 0.0662 - mask_out_accuracy: 0.9976 - val_loss: 0.2398 - val_yolo_out_loss: 0.2307 - val_mask_out_loss: 0.0077 - val_yolo_out_accuracy: 0.0658 - val_mask_out_accuracy: 0.9975\n",
      "Epoch 32/75\n",
      "4500/4500 [==============================] - 7s 2ms/step - loss: 0.2727 - yolo_out_loss: 0.2670 - mask_out_loss: 0.0056 - yolo_out_accuracy: 0.0661 - mask_out_accuracy: 0.9980 - val_loss: 0.2407 - val_yolo_out_loss: 0.2312 - val_mask_out_loss: 0.0083 - val_yolo_out_accuracy: 0.0657 - val_mask_out_accuracy: 0.9967\n",
      "Epoch 33/75\n",
      "4500/4500 [==============================] - 7s 2ms/step - loss: 0.2615 - yolo_out_loss: 0.2561 - mask_out_loss: 0.0052 - yolo_out_accuracy: 0.0669 - mask_out_accuracy: 0.9981 - val_loss: 0.2406 - val_yolo_out_loss: 0.2315 - val_mask_out_loss: 0.0075 - val_yolo_out_accuracy: 0.0682 - val_mask_out_accuracy: 0.9970\n",
      "Epoch 34/75\n",
      "4500/4500 [==============================] - 8s 2ms/step - loss: 0.2620 - yolo_out_loss: 0.2553 - mask_out_loss: 0.0064 - yolo_out_accuracy: 0.0670 - mask_out_accuracy: 0.9976 - val_loss: 0.2242 - val_yolo_out_loss: 0.2154 - val_mask_out_loss: 0.0075 - val_yolo_out_accuracy: 0.0666 - val_mask_out_accuracy: 0.9975\n",
      "Epoch 35/75\n",
      "4500/4500 [==============================] - 8s 2ms/step - loss: 0.2592 - yolo_out_loss: 0.2535 - mask_out_loss: 0.0054 - yolo_out_accuracy: 0.0675 - mask_out_accuracy: 0.9980 - val_loss: 0.2424 - val_yolo_out_loss: 0.2345 - val_mask_out_loss: 0.0067 - val_yolo_out_accuracy: 0.0666 - val_mask_out_accuracy: 0.9977\n",
      "Epoch 36/75\n",
      "4500/4500 [==============================] - 7s 2ms/step - loss: 0.2583 - yolo_out_loss: 0.2528 - mask_out_loss: 0.0054 - yolo_out_accuracy: 0.0676 - mask_out_accuracy: 0.9980 - val_loss: 0.2266 - val_yolo_out_loss: 0.2198 - val_mask_out_loss: 0.0058 - val_yolo_out_accuracy: 0.0675 - val_mask_out_accuracy: 0.9978\n",
      "Epoch 37/75\n",
      "4500/4500 [==============================] - 7s 2ms/step - loss: 0.2533 - yolo_out_loss: 0.2451 - mask_out_loss: 0.0081 - yolo_out_accuracy: 0.0675 - mask_out_accuracy: 0.9972 - val_loss: 0.2414 - val_yolo_out_loss: 0.2333 - val_mask_out_loss: 0.0065 - val_yolo_out_accuracy: 0.0634 - val_mask_out_accuracy: 0.9975\n",
      "Epoch 38/75\n",
      "4500/4500 [==============================] - 7s 2ms/step - loss: 0.2528 - yolo_out_loss: 0.2477 - mask_out_loss: 0.0050 - yolo_out_accuracy: 0.0681 - mask_out_accuracy: 0.9981 - val_loss: 0.2390 - val_yolo_out_loss: 0.2298 - val_mask_out_loss: 0.0072 - val_yolo_out_accuracy: 0.0680 - val_mask_out_accuracy: 0.9973\n",
      "Epoch 39/75\n",
      "4500/4500 [==============================] - 7s 2ms/step - loss: 0.2477 - yolo_out_loss: 0.2395 - mask_out_loss: 0.0080 - yolo_out_accuracy: 0.0684 - mask_out_accuracy: 0.9971 - val_loss: 0.3333 - val_yolo_out_loss: 0.2424 - val_mask_out_loss: 0.0906 - val_yolo_out_accuracy: 0.0682 - val_mask_out_accuracy: 0.9811\n",
      "Epoch 40/75\n",
      "4500/4500 [==============================] - 7s 2ms/step - loss: 0.2455 - yolo_out_loss: 0.2392 - mask_out_loss: 0.0062 - yolo_out_accuracy: 0.0684 - mask_out_accuracy: 0.9977 - val_loss: 0.2270 - val_yolo_out_loss: 0.2194 - val_mask_out_loss: 0.0062 - val_yolo_out_accuracy: 0.0669 - val_mask_out_accuracy: 0.9976\n",
      "Epoch 41/75\n",
      "4500/4500 [==============================] - 7s 2ms/step - loss: 0.2423 - yolo_out_loss: 0.2373 - mask_out_loss: 0.0048 - yolo_out_accuracy: 0.0689 - mask_out_accuracy: 0.9982 - val_loss: 0.2145 - val_yolo_out_loss: 0.2050 - val_mask_out_loss: 0.0080 - val_yolo_out_accuracy: 0.0684 - val_mask_out_accuracy: 0.9969\n",
      "Epoch 42/75\n",
      "4500/4500 [==============================] - 8s 2ms/step - loss: 0.2308 - yolo_out_loss: 0.2265 - mask_out_loss: 0.0042 - yolo_out_accuracy: 0.0689 - mask_out_accuracy: 0.9984 - val_loss: 0.2065 - val_yolo_out_loss: 0.1989 - val_mask_out_loss: 0.0065 - val_yolo_out_accuracy: 0.0688 - val_mask_out_accuracy: 0.9975\n",
      "Epoch 43/75\n",
      "4500/4500 [==============================] - 7s 2ms/step - loss: 0.2270 - yolo_out_loss: 0.2228 - mask_out_loss: 0.0040 - yolo_out_accuracy: 0.0690 - mask_out_accuracy: 0.9984 - val_loss: 0.2412 - val_yolo_out_loss: 0.2332 - val_mask_out_loss: 0.0063 - val_yolo_out_accuracy: 0.0669 - val_mask_out_accuracy: 0.9977\n",
      "Epoch 44/75\n",
      "4500/4500 [==============================] - 7s 2ms/step - loss: 0.2303 - yolo_out_loss: 0.2255 - mask_out_loss: 0.0047 - yolo_out_accuracy: 0.0691 - mask_out_accuracy: 0.9982 - val_loss: 0.2202 - val_yolo_out_loss: 0.2114 - val_mask_out_loss: 0.0071 - val_yolo_out_accuracy: 0.0665 - val_mask_out_accuracy: 0.9971\n",
      "Epoch 45/75\n",
      "4500/4500 [==============================] - 7s 2ms/step - loss: 0.2266 - yolo_out_loss: 0.2208 - mask_out_loss: 0.0057 - yolo_out_accuracy: 0.0693 - mask_out_accuracy: 0.9979 - val_loss: 0.2032 - val_yolo_out_loss: 0.1959 - val_mask_out_loss: 0.0064 - val_yolo_out_accuracy: 0.0714 - val_mask_out_accuracy: 0.9978\n",
      "Epoch 46/75\n",
      "4500/4500 [==============================] - 7s 2ms/step - loss: 0.2169 - yolo_out_loss: 0.2126 - mask_out_loss: 0.0041 - yolo_out_accuracy: 0.0701 - mask_out_accuracy: 0.9984 - val_loss: 0.2023 - val_yolo_out_loss: 0.1955 - val_mask_out_loss: 0.0058 - val_yolo_out_accuracy: 0.0687 - val_mask_out_accuracy: 0.9981\n",
      "Epoch 47/75\n",
      "4500/4500 [==============================] - 7s 2ms/step - loss: 0.2169 - yolo_out_loss: 0.2120 - mask_out_loss: 0.0049 - yolo_out_accuracy: 0.0700 - mask_out_accuracy: 0.9982 - val_loss: 0.1983 - val_yolo_out_loss: 0.1922 - val_mask_out_loss: 0.0052 - val_yolo_out_accuracy: 0.0706 - val_mask_out_accuracy: 0.9981\n",
      "Epoch 48/75\n",
      "4500/4500 [==============================] - 8s 2ms/step - loss: 0.2136 - yolo_out_loss: 0.2095 - mask_out_loss: 0.0041 - yolo_out_accuracy: 0.0701 - mask_out_accuracy: 0.9984 - val_loss: 0.2017 - val_yolo_out_loss: 0.1951 - val_mask_out_loss: 0.0055 - val_yolo_out_accuracy: 0.0703 - val_mask_out_accuracy: 0.9979\n",
      "Epoch 49/75\n",
      "4500/4500 [==============================] - 7s 2ms/step - loss: 0.2129 - yolo_out_loss: 0.2088 - mask_out_loss: 0.0038 - yolo_out_accuracy: 0.0700 - mask_out_accuracy: 0.9985 - val_loss: 0.2571 - val_yolo_out_loss: 0.2500 - val_mask_out_loss: 0.0058 - val_yolo_out_accuracy: 0.0691 - val_mask_out_accuracy: 0.9980\n",
      "Epoch 50/75\n",
      "4500/4500 [==============================] - 8s 2ms/step - loss: 0.2116 - yolo_out_loss: 0.2062 - mask_out_loss: 0.0052 - yolo_out_accuracy: 0.0703 - mask_out_accuracy: 0.9980 - val_loss: 0.2174 - val_yolo_out_loss: 0.1977 - val_mask_out_loss: 0.0190 - val_yolo_out_accuracy: 0.0694 - val_mask_out_accuracy: 0.9945\n",
      "Epoch 51/75\n",
      "4500/4500 [==============================] - 7s 2ms/step - loss: 0.2099 - yolo_out_loss: 0.2058 - mask_out_loss: 0.0042 - yolo_out_accuracy: 0.0700 - mask_out_accuracy: 0.9984 - val_loss: 0.1938 - val_yolo_out_loss: 0.1877 - val_mask_out_loss: 0.0050 - val_yolo_out_accuracy: 0.0718 - val_mask_out_accuracy: 0.9981\n",
      "Epoch 52/75\n",
      "4500/4500 [==============================] - 7s 2ms/step - loss: 0.2069 - yolo_out_loss: 0.2017 - mask_out_loss: 0.0050 - yolo_out_accuracy: 0.0704 - mask_out_accuracy: 0.9981 - val_loss: 0.1818 - val_yolo_out_loss: 0.1766 - val_mask_out_loss: 0.0042 - val_yolo_out_accuracy: 0.0707 - val_mask_out_accuracy: 0.9984\n",
      "Epoch 53/75\n",
      "4500/4500 [==============================] - 7s 2ms/step - loss: 0.2054 - yolo_out_loss: 0.2010 - mask_out_loss: 0.0043 - yolo_out_accuracy: 0.0707 - mask_out_accuracy: 0.9984 - val_loss: 0.2121 - val_yolo_out_loss: 0.2015 - val_mask_out_loss: 0.0095 - val_yolo_out_accuracy: 0.0701 - val_mask_out_accuracy: 0.9964\n",
      "Epoch 54/75\n",
      "4500/4500 [==============================] - 7s 2ms/step - loss: 0.1994 - yolo_out_loss: 0.1954 - mask_out_loss: 0.0038 - yolo_out_accuracy: 0.0703 - mask_out_accuracy: 0.9985 - val_loss: 0.1879 - val_yolo_out_loss: 0.1807 - val_mask_out_loss: 0.0065 - val_yolo_out_accuracy: 0.0720 - val_mask_out_accuracy: 0.9978\n",
      "Epoch 55/75\n",
      "4500/4500 [==============================] - 7s 2ms/step - loss: 0.1926 - yolo_out_loss: 0.1868 - mask_out_loss: 0.0057 - yolo_out_accuracy: 0.0711 - mask_out_accuracy: 0.9979 - val_loss: 0.1868 - val_yolo_out_loss: 0.1786 - val_mask_out_loss: 0.0069 - val_yolo_out_accuracy: 0.0702 - val_mask_out_accuracy: 0.9978\n",
      "Epoch 56/75\n",
      "4500/4500 [==============================] - 8s 2ms/step - loss: 0.1950 - yolo_out_loss: 0.1914 - mask_out_loss: 0.0035 - yolo_out_accuracy: 0.0711 - mask_out_accuracy: 0.9986 - val_loss: 0.1741 - val_yolo_out_loss: 0.1696 - val_mask_out_loss: 0.0034 - val_yolo_out_accuracy: 0.0712 - val_mask_out_accuracy: 0.9987\n",
      "Epoch 57/75\n",
      "4500/4500 [==============================] - 7s 2ms/step - loss: 0.1969 - yolo_out_loss: 0.1911 - mask_out_loss: 0.0056 - yolo_out_accuracy: 0.0711 - mask_out_accuracy: 0.9979 - val_loss: 0.1866 - val_yolo_out_loss: 0.1816 - val_mask_out_loss: 0.0040 - val_yolo_out_accuracy: 0.0702 - val_mask_out_accuracy: 0.9986\n",
      "Epoch 58/75\n",
      "4500/4500 [==============================] - 8s 2ms/step - loss: 0.1864 - yolo_out_loss: 0.1828 - mask_out_loss: 0.0035 - yolo_out_accuracy: 0.0708 - mask_out_accuracy: 0.9986 - val_loss: 0.1735 - val_yolo_out_loss: 0.1684 - val_mask_out_loss: 0.0040 - val_yolo_out_accuracy: 0.0697 - val_mask_out_accuracy: 0.9985\n",
      "Epoch 59/75\n",
      "4500/4500 [==============================] - 7s 2ms/step - loss: 0.1810 - yolo_out_loss: 0.1774 - mask_out_loss: 0.0035 - yolo_out_accuracy: 0.0718 - mask_out_accuracy: 0.9987 - val_loss: 0.1891 - val_yolo_out_loss: 0.1790 - val_mask_out_loss: 0.0089 - val_yolo_out_accuracy: 0.0697 - val_mask_out_accuracy: 0.9964\n",
      "Epoch 60/75\n",
      "4500/4500 [==============================] - 7s 2ms/step - loss: 0.1879 - yolo_out_loss: 0.1844 - mask_out_loss: 0.0034 - yolo_out_accuracy: 0.0719 - mask_out_accuracy: 0.9987 - val_loss: 0.1964 - val_yolo_out_loss: 0.1867 - val_mask_out_loss: 0.0083 - val_yolo_out_accuracy: 0.0706 - val_mask_out_accuracy: 0.9967\n",
      "Epoch 61/75\n",
      "4500/4500 [==============================] - 7s 2ms/step - loss: 0.1791 - yolo_out_loss: 0.1753 - mask_out_loss: 0.0036 - yolo_out_accuracy: 0.0717 - mask_out_accuracy: 0.9986 - val_loss: 0.1629 - val_yolo_out_loss: 0.1572 - val_mask_out_loss: 0.0044 - val_yolo_out_accuracy: 0.0716 - val_mask_out_accuracy: 0.9984\n",
      "Epoch 62/75\n",
      "4500/4500 [==============================] - 7s 2ms/step - loss: 0.1811 - yolo_out_loss: 0.1766 - mask_out_loss: 0.0045 - yolo_out_accuracy: 0.0715 - mask_out_accuracy: 0.9984 - val_loss: 0.1762 - val_yolo_out_loss: 0.1700 - val_mask_out_loss: 0.0048 - val_yolo_out_accuracy: 0.0708 - val_mask_out_accuracy: 0.9983\n",
      "Epoch 63/75\n",
      "4500/4500 [==============================] - 7s 2ms/step - loss: 0.1792 - yolo_out_loss: 0.1757 - mask_out_loss: 0.0033 - yolo_out_accuracy: 0.0719 - mask_out_accuracy: 0.9987 - val_loss: 0.1677 - val_yolo_out_loss: 0.1620 - val_mask_out_loss: 0.0044 - val_yolo_out_accuracy: 0.0702 - val_mask_out_accuracy: 0.9984\n",
      "Epoch 64/75\n",
      "4500/4500 [==============================] - 7s 2ms/step - loss: 0.1791 - yolo_out_loss: 0.1758 - mask_out_loss: 0.0032 - yolo_out_accuracy: 0.0717 - mask_out_accuracy: 0.9988 - val_loss: 0.1713 - val_yolo_out_loss: 0.1666 - val_mask_out_loss: 0.0037 - val_yolo_out_accuracy: 0.0696 - val_mask_out_accuracy: 0.9985\n",
      "Epoch 65/75\n",
      "4500/4500 [==============================] - 7s 2ms/step - loss: 0.1737 - yolo_out_loss: 0.1707 - mask_out_loss: 0.0029 - yolo_out_accuracy: 0.0722 - mask_out_accuracy: 0.9989 - val_loss: 0.1638 - val_yolo_out_loss: 0.1577 - val_mask_out_loss: 0.0051 - val_yolo_out_accuracy: 0.0707 - val_mask_out_accuracy: 0.9978\n",
      "Epoch 66/75\n",
      "4500/4500 [==============================] - 8s 2ms/step - loss: 0.1680 - yolo_out_loss: 0.1650 - mask_out_loss: 0.0028 - yolo_out_accuracy: 0.0722 - mask_out_accuracy: 0.9989 - val_loss: 0.1754 - val_yolo_out_loss: 0.1646 - val_mask_out_loss: 0.0096 - val_yolo_out_accuracy: 0.0718 - val_mask_out_accuracy: 0.9961\n",
      "Epoch 67/75\n",
      "4500/4500 [==============================] - 7s 2ms/step - loss: 0.1770 - yolo_out_loss: 0.1717 - mask_out_loss: 0.0051 - yolo_out_accuracy: 0.0722 - mask_out_accuracy: 0.9982 - val_loss: 0.1672 - val_yolo_out_loss: 0.1618 - val_mask_out_loss: 0.0048 - val_yolo_out_accuracy: 0.0713 - val_mask_out_accuracy: 0.9984\n",
      "Epoch 68/75\n",
      "4500/4500 [==============================] - 7s 2ms/step - loss: 0.1708 - yolo_out_loss: 0.1666 - mask_out_loss: 0.0040 - yolo_out_accuracy: 0.0722 - mask_out_accuracy: 0.9985 - val_loss: 0.1649 - val_yolo_out_loss: 0.1586 - val_mask_out_loss: 0.0053 - val_yolo_out_accuracy: 0.0712 - val_mask_out_accuracy: 0.9980\n",
      "Epoch 69/75\n",
      "4500/4500 [==============================] - 8s 2ms/step - loss: 0.1654 - yolo_out_loss: 0.1621 - mask_out_loss: 0.0033 - yolo_out_accuracy: 0.0725 - mask_out_accuracy: 0.9987 - val_loss: 0.1646 - val_yolo_out_loss: 0.1580 - val_mask_out_loss: 0.0053 - val_yolo_out_accuracy: 0.0700 - val_mask_out_accuracy: 0.9976\n",
      "Epoch 70/75\n",
      "4500/4500 [==============================] - 8s 2ms/step - loss: 0.1637 - yolo_out_loss: 0.1610 - mask_out_loss: 0.0027 - yolo_out_accuracy: 0.0724 - mask_out_accuracy: 0.9990 - val_loss: 0.1768 - val_yolo_out_loss: 0.1691 - val_mask_out_loss: 0.0065 - val_yolo_out_accuracy: 0.0726 - val_mask_out_accuracy: 0.9973\n",
      "Epoch 71/75\n",
      "4500/4500 [==============================] - 7s 2ms/step - loss: 0.1597 - yolo_out_loss: 0.1570 - mask_out_loss: 0.0026 - yolo_out_accuracy: 0.0727 - mask_out_accuracy: 0.9990 - val_loss: 0.1611 - val_yolo_out_loss: 0.1571 - val_mask_out_loss: 0.0034 - val_yolo_out_accuracy: 0.0724 - val_mask_out_accuracy: 0.9988\n",
      "Epoch 72/75\n",
      "4500/4500 [==============================] - 7s 2ms/step - loss: 0.1614 - yolo_out_loss: 0.1583 - mask_out_loss: 0.0029 - yolo_out_accuracy: 0.0724 - mask_out_accuracy: 0.9989 - val_loss: 0.1614 - val_yolo_out_loss: 0.1559 - val_mask_out_loss: 0.0043 - val_yolo_out_accuracy: 0.0726 - val_mask_out_accuracy: 0.9983\n",
      "Epoch 73/75\n",
      "4500/4500 [==============================] - 8s 2ms/step - loss: 0.1576 - yolo_out_loss: 0.1548 - mask_out_loss: 0.0027 - yolo_out_accuracy: 0.0725 - mask_out_accuracy: 0.9990 - val_loss: 0.1608 - val_yolo_out_loss: 0.1552 - val_mask_out_loss: 0.0045 - val_yolo_out_accuracy: 0.0713 - val_mask_out_accuracy: 0.9982\n",
      "Epoch 74/75\n",
      "4500/4500 [==============================] - 8s 2ms/step - loss: 0.1588 - yolo_out_loss: 0.1548 - mask_out_loss: 0.0039 - yolo_out_accuracy: 0.0730 - mask_out_accuracy: 0.9985 - val_loss: 0.1692 - val_yolo_out_loss: 0.1519 - val_mask_out_loss: 0.0160 - val_yolo_out_accuracy: 0.0706 - val_mask_out_accuracy: 0.9943\n",
      "Epoch 75/75\n",
      "4500/4500 [==============================] - 8s 2ms/step - loss: 0.1590 - yolo_out_loss: 0.1556 - mask_out_loss: 0.0032 - yolo_out_accuracy: 0.0729 - mask_out_accuracy: 0.9988 - val_loss: 0.1520 - val_yolo_out_loss: 0.1435 - val_mask_out_loss: 0.0073 - val_yolo_out_accuracy: 0.0712 - val_mask_out_accuracy: 0.9971\n"
     ]
    }
   ],
   "source": [
    "history = model.fit(Images, {\"yolo_out\": Labels, \"mask_out\": Masks}, batch_size = 32, \n",
    "          epochs = 75, validation_split = 0.1)"
   ]
  },
  {
   "cell_type": "code",
   "execution_count": null,
   "metadata": {},
   "outputs": [],
   "source": []
  },
  {
   "cell_type": "code",
   "execution_count": 31,
   "metadata": {},
   "outputs": [
    {
     "data": {
      "image/png": "[encoded data removed]",
      "text/plain": [
       "<Figure size 432x288 with 1 Axes>"
      ]
     },
     "metadata": {
      "needs_background": "light"
     },
     "output_type": "display_data"
    }
   ],
   "source": [
    "index = random.randint(0, len(Images))\n",
    "\n",
    "img = Images[index]\n",
    "true_yolo_lab = Labels[index].reshape(GRID*GRID, 11)\n",
    "mask = Masks[index]\n",
    "\n",
    "centers = []\n",
    "bboxs = []\n",
    "cats = []\n",
    "for lab_arr in (true_yolo_lab):\n",
    "    if lab_arr[0] == 1:\n",
    "        centers.append([lab_arr[1], lab_arr[2]])\n",
    "        bboxs.append([lab_arr[1]-lab_arr[3]*0.5, lab_arr[2]-lab_arr[4]*0.5, lab_arr[3], lab_arr[4]])\n",
    "        cats.append(np.argmax(lab_arr[5:]))\n",
    "        \n",
    "plt.imshow(img.reshape(76,76))\n",
    "\n",
    "true_center_dists = [] \n",
    "for i in range(len(centers)):\n",
    "    true_center_dists.append((centers[i][0]**2 + centers[i][1]**2)*100)\n",
    "    plt.scatter(centers[i][0]*76,76-76*centers[i][1], c='r')\n",
    "    bbox = rect_coords(bboxs[i][0], bboxs[i][1], bboxs[i][2], bboxs[i][3], 0)\n",
    "    plt.plot(bbox[:,0]*76, 76-76*bbox[:,1], 'r')\n",
    "    \n",
    "sorted_indices_t = np.argsort(true_center_dists)\n",
    "# print(sorted_indices_t)\n",
    "    \n",
    "preds = model.predict(img.reshape(1,76,76,1))\n",
    "\n",
    "yolo_preds = preds[0].reshape(GRID*GRID,11)\n",
    "\n",
    "centers_p = []\n",
    "bbox_p = []\n",
    "cats_p = []\n",
    "centers_p_dists = []\n",
    "for lab_arr in (yolo_preds):\n",
    "    if lab_arr[0] > 0.25:\n",
    "        centers_p.append([lab_arr[1], lab_arr[2]])\n",
    "        centers_p_dists.append((centers_p[-1][0]**2 + centers_p[-1][1]**2)*100)\n",
    "        bbox_p.append([lab_arr[1]-lab_arr[3]*0.5, lab_arr[2]-lab_arr[4]*0.5, lab_arr[3], lab_arr[4]])\n",
    "        cats_p.append(np.argmax(lab_arr[5:]))\n",
    "\n",
    "sorted_indices_p = np.argsort(centers_p_dists)\n",
    "# print(sorted_indices_p) \n",
    "    \n",
    "for i in range(len(centers_p)):\n",
    "    plt.scatter(centers_p[sorted_indices_p[i]][0]*76,76-76*centers_p[sorted_indices_p[i]][1], c='b')\n",
    "    bbox = rect_coords(bbox_p[sorted_indices_p[i]][0], bbox_p[sorted_indices_p[i]][1], bbox_p[sorted_indices_p[i]][2], bbox_p[sorted_indices_p[i]][3], 0)\n",
    "    plt.plot(bbox[:,0]*76, 76-76*bbox[:,1], '--b')\n",
    "    \n",
    "    bbox1 = np.array([bbox_p[sorted_indices_p[i]][0], bbox_p[sorted_indices_p[i]][1], bbox_p[sorted_indices_p[i]][2]+bbox_p[sorted_indices_p[i]][0], bbox_p[sorted_indices_p[i]][3]+bbox_p[sorted_indices_p[i]][1]])\n",
    "    bbox2 = np.array([bboxs[sorted_indices_t[i]][0], bboxs[sorted_indices_t[i]][1], bboxs[sorted_indices_t[i]][2]+bboxs[sorted_indices_t[i]][0], bboxs[sorted_indices_t[i]][3]+bboxs[sorted_indices_t[i]][1]])\n",
    "    iou_score = iou_calc(bbox1.reshape(2,2), bbox2.reshape(2,2))\n",
    "    \n",
    "    category = cats_p[sorted_indices_p[i]]\n",
    "    \n",
    "    text = str(shapes[category-1]) + ',' + str(round(iou_score,4)) \n",
    "    plt.text((bbox_p[sorted_indices_p[i]][0])*76,76-76*(bbox_p[sorted_indices_p[i]][3]+bbox_p[sorted_indices_p[i]][1]), text)\n",
    "    \n",
    "    "
   ]
  },
  {
   "cell_type": "code",
   "execution_count": 32,
   "metadata": {},
   "outputs": [],
   "source": [
    "def mask_iou(truemask, maskimg):\n",
    "       \n",
    "    intersection = np.count_nonzero(truemask*maskimg)\n",
    "#     print(intersection)\n",
    "\n",
    "    union = np.count_nonzero(truemask) + np.count_nonzero(maskimg) - intersection\n",
    "#     print(union)\n",
    "    \n",
    "    if union > 0:\n",
    "        iou_mask = intersection/union\n",
    "    else:\n",
    "        return 1\n",
    "    \n",
    "    return iou_mask\n"
   ]
  },
  {
   "cell_type": "code",
   "execution_count": 33,
   "metadata": {},
   "outputs": [
    {
     "name": "stdout",
     "output_type": "stream",
     "text": [
      "Mean mask IOU = 0.9901425881086897\n"
     ]
    },
    {
     "data": {
      "text/plain": [
       "<matplotlib.image.AxesImage at 0x7fbf644b8310>"
      ]
     },
     "execution_count": 33,
     "metadata": {},
     "output_type": "execute_result"
    },
    {
     "data": {
      "image/png": "[encoded data removed]",
      "text/plain": [
       "<Figure size 432x288 with 1 Axes>"
      ]
     },
     "metadata": {
      "needs_background": "light"
     },
     "output_type": "display_data"
    }
   ],
   "source": [
    "mask_pred = preds[1].reshape(76,76,len(shapes)+1)\n",
    "mask_pred_1 = np.zeros((76,76,len(shapes)+1))\n",
    "mask_pred_img = np.zeros((mask_pred.shape[0], mask_pred.shape[1]))\n",
    "\n",
    "maskiou = []\n",
    "for i in range(mask_pred.shape[2]):\n",
    "    for j in range(mask_pred.shape[0]):\n",
    "        for k in range(mask_pred.shape[1]):\n",
    "            if mask_pred[j,k,i] > 0.02:\n",
    "                mask_pred_img[j,k] = i\n",
    "                mask_pred_1[j,k,i] = i\n",
    "    \n",
    "    if i > 0:\n",
    "        maskiou.append(mask_iou(mask_pred_1[:,:,i], mask[:,:,i]))\n",
    "\n",
    "print(\"Mean mask IOU = {}\".format(np.mean(maskiou)))\n",
    "plt.figure()\n",
    "# plt.imshow(img.reshape(76,76))\n",
    "plt.imshow(mask_pred_img)"
   ]
  },
  {
   "cell_type": "code",
   "execution_count": null,
   "metadata": {},
   "outputs": [],
   "source": []
  }
 ],
 "metadata": {
  "kernelspec": {
   "display_name": "Python 3",
   "language": "python",
   "name": "python3"
  },
  "language_info": {
   "codemirror_mode": {
    "name": "ipython",
    "version": 3
   },
   "file_extension": ".py",
   "mimetype": "text/x-python",
   "name": "python",
   "nbconvert_exporter": "python",
   "pygments_lexer": "ipython3",
   "version": "3.6.8"
  },
  "varInspector": {
   "cols": {
    "lenName": 16,
    "lenType": 16,
    "lenVar": 40
   },
   "kernels_config": {
    "python": {
     "delete_cmd_postfix": "",
     "delete_cmd_prefix": "del ",
     "library": "var_list.py",
     "varRefreshCmd": "print(var_dic_list())"
    },
    "r": {
     "delete_cmd_postfix": ") ",
     "delete_cmd_prefix": "rm(",
     "library": "var_list.r",
     "varRefreshCmd": "cat(var_dic_list()) "
    }
   },
   "types_to_exclude": [
    "module",
    "function",
    "builtin_function_or_method",
    "instance",
    "_Feature"
   ],
   "window_display": false
  }
 },
 "nbformat": 4,
 "nbformat_minor": 4
}
